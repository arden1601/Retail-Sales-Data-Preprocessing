{
 "cells": [
  {
   "cell_type": "markdown",
   "metadata": {},
   "source": [
    "IMPORT LIBRARY"
   ]
  },
  {
   "cell_type": "code",
   "execution_count": 1,
   "metadata": {},
   "outputs": [],
   "source": [
    "import pandas as pd\n",
    "\n",
    "FILE_PATH = './Retail_sales.csv'"
   ]
  },
  {
   "cell_type": "markdown",
   "metadata": {},
   "source": [
    "#1 CHECKING MISSING VALUE"
   ]
  },
  {
   "cell_type": "code",
   "execution_count": 4,
   "metadata": {},
   "outputs": [
    {
     "name": "stdout",
     "output_type": "stream",
     "text": [
      "Store ID                 0\n",
      "Product ID               0\n",
      "Date                     0\n",
      "Units Sold               0\n",
      "Sales Revenue (USD)      0\n",
      "Discount Percentage      0\n",
      "Marketing Spend (USD)    0\n",
      "Store Location           0\n",
      "Product Category         0\n",
      "Day of the Week          0\n",
      "Holiday Effect           0\n",
      "dtype: int64\n"
     ]
    }
   ],
   "source": [
    "sales_df = pd.read_csv(FILE_PATH)\n",
    "# print(sales_df.head())\n",
    "\n",
    "print(sales_df.isna().sum())"
   ]
  }
 ],
 "metadata": {
  "kernelspec": {
   "display_name": "Python 3",
   "language": "python",
   "name": "python3"
  },
  "language_info": {
   "codemirror_mode": {
    "name": "ipython",
    "version": 3
   },
   "file_extension": ".py",
   "mimetype": "text/x-python",
   "name": "python",
   "nbconvert_exporter": "python",
   "pygments_lexer": "ipython3",
   "version": "3.10.7"
  }
 },
 "nbformat": 4,
 "nbformat_minor": 2
}
